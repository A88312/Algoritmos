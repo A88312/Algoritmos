{
 "cells": [
  {
   "cell_type": "code",
   "execution_count": null,
   "metadata": {},
   "outputs": [],
   "source": [
    "fosforos = 21\n",
    "\n",
    "print (\"Existem 21 fósforos, selecione um número de 1-4.\")\n",
    "print (\"O último a retirar um fósforo perde.\")\n",
    "\n",
    "while True:\n",
    "    print ((\"Fósforos restantes: \") , fosforos)\n",
    "    fosforos_retirados = int(input(\"Retire um 1 a 4 fósforos:\"))\n",
    "    if fosforos == 1:\n",
    "        print (\"Retirou o último fósforo. Perdeu.\")\n",
    "        break\n",
    "    if fosforos_retirados >= 5 or fosforos_retirados <= 0:\n",
    "        print (\"Escolha errada. Por favor selecione outro 1 a 4 fósforos.\")\n",
    "        continue\n",
    "    print (\"O computador retirou: \" , (5 - fosforos_retirados) )\n",
    "    fosforos -= 5"
   ]
  }
 ],
 "metadata": {
  "kernelspec": {
   "display_name": "Python 3",
   "language": "python",
   "name": "python3"
  },
  "language_info": {
   "codemirror_mode": {
    "name": "ipython",
    "version": 3
   },
   "file_extension": ".py",
   "mimetype": "text/x-python",
   "name": "python",
   "nbconvert_exporter": "python",
   "pygments_lexer": "ipython3",
   "version": "3.8.5"
  }
 },
 "nbformat": 4,
 "nbformat_minor": 4
}
