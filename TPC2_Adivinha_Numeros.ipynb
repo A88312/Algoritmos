{
 "cells": [
  {
   "cell_type": "markdown",
   "metadata": {},
   "source": [
    "# Manifesto\n",
    "* **Identificador:** Algoritmos e Técnicas de Programação\n",
    "* **Título:** Jogo do Adivinha o Nº que estou a Pensar\n",
    "* **Data de início:** 2021-10-19\n",
    "* **Data de fim:** 2021-10-20\n",
    "* **Supervisor:** José Carlos Leite Ramalho, jcr@di.uminho.pt\n",
    "* **Autor:** Amanda Maria de Melo Vieira, A88312\n",
    "* **Resumo:** Neste trabalho é pretendido, utilizando o mecanismo da procura binária, o desenvolvimento de um jogo no qual o computador adivinha o número que o utilizador pensou."
   ]
  },
  {
   "cell_type": "code",
   "execution_count": null,
   "metadata": {},
   "outputs": [],
   "source": [
    "def adivinha_numeros(numero):\n",
    "    esq = 0\n",
    "    di = 100\n",
    "    adivinha = (esq+di)//2\n",
    "    while adivinha != numero:\n",
    "        adivinha = (esq+di)//2\n",
    "        print(\"Estou a pensar... O número é \", adivinha)\n",
    "        if adivinha > numero:\n",
    "            di = adivinha\n",
    "        elif adivinha < numero:\n",
    "            esq = adivinha + 1\n",
    "    print(\"Já sei! O seu número é \", adivinha, \"!\")\n",
    "            \n",
    "def main():\n",
    "    numero = int(input(\"Vamos jogar um jogo. Você pensa num número de 1 a 100 e eu vou adivinhar! Introduza o seu número: \"))\n",
    "    if numero < 0 or numero > 100:\n",
    "        print(\"Hum... Acho que introduziu um número inválido. Pense num número de 1 a 100.\")\n",
    "    else:\n",
    "        adivinha_numero(numero)\n",
    "if __name__ == '__main__':\n",
    "    main()\n"
   ]
  }
 ],
 "metadata": {
  "kernelspec": {
   "display_name": "Python 3",
   "language": "python",
   "name": "python3"
  },
  "language_info": {
   "codemirror_mode": {
    "name": "ipython",
    "version": 3
   },
   "file_extension": ".py",
   "mimetype": "text/x-python",
   "name": "python",
   "nbconvert_exporter": "python",
   "pygments_lexer": "ipython3",
   "version": "3.8.5"
  }
 },
 "nbformat": 4,
 "nbformat_minor": 4
}
