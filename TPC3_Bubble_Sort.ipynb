{
 "cells": [
  {
   "cell_type": "markdown",
   "metadata": {},
   "source": [
    "### Manifesto do TPC3\n",
    "* **Identificador:** Algoritmos e Técnicas de Programação\n",
    "* **Título:** Bubble Sort List\n",
    "* **Data de Início:** 2021-10-26\n",
    "* **Data de Fim:** 2021-10-27\n",
    "* **Supervisor:** José Carlos Leite Ramalho, jcr@di.uminho.pt\n",
    "* **Autor:** Amanda Maria de Melo Vieira, A88312\n",
    "* **Resumo:** Neste trabalho é pretendida a utilização do Bubble Sort na criação de duas listas, uma ordenada e outra desordenada, utilizando os elementos inseridos pelo utilizador."
   ]
  },
  {
   "cell_type": "code",
   "execution_count": null,
   "metadata": {},
   "outputs": [],
   "source": [
    "print(\"Olá! Vamos fazer listas! \")\n",
    "\n",
    "n = int(input(\"Primeira, indique o número de elementos da sua lista: \"))\n",
    "lista = []\n",
    "for i in range (n):\n",
    "    number = float(input(\"Insira um elemento: \"))\n",
    "    lista.append(number)\n",
    "print(\"Ok! Esta é a sua lista desordenada: \", lista)\n",
    "\n",
    "def Bubble_Sort(lista):\n",
    "    for i in range (0, len(lista)-1):\n",
    "        for j in range (len(lista)-1):\n",
    "            if (lista[j] > lista[j+1]):\n",
    "                temp = lista[j]\n",
    "                lista [j] = lista [j+1]\n",
    "                lista [j+1] = temp\n",
    "    return lista\n",
    "Bubble_Sort(lista)\n",
    "print(\"E esta é a sua lista quando ordenada: \", Bubble_Sort(lista))\n"
   ]
  },
  {
   "cell_type": "code",
   "execution_count": null,
   "metadata": {},
   "outputs": [],
   "source": []
  }
 ],
 "metadata": {
  "kernelspec": {
   "display_name": "Python 3",
   "language": "python",
   "name": "python3"
  },
  "language_info": {
   "codemirror_mode": {
    "name": "ipython",
    "version": 3
   },
   "file_extension": ".py",
   "mimetype": "text/x-python",
   "name": "python",
   "nbconvert_exporter": "python",
   "pygments_lexer": "ipython3",
   "version": "3.8.5"
  }
 },
 "nbformat": 4,
 "nbformat_minor": 4
}
