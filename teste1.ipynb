{
 "cells": [
  {
   "cell_type": "markdown",
   "metadata": {},
   "source": [
    "## 1.a) Testa se todos os elementos de uma lista são diferentes entre si, ou seja, não há repetidos (resultado __True__ ou __False__):\n",
    "\n",
    "``` \n",
    "def diferentes(lista):\n",
    "    ... \n",
    "    return ...  \n",
    "```"
   ]
  },
  {
   "cell_type": "code",
   "execution_count": null,
   "metadata": {},
   "outputs": [],
   "source": [
    "def diferentes(lista):\n",
    "    visitados = []\n",
    "    dif = True\n",
    "    i = 0\n",
    "    while dif and i < len(lista):\n",
    "        if lista[i] in visitados:\n",
    "            dif = False\n",
    "        else:\n",
    "            visitados.append(lista[i])\n",
    "        i = i + 1\n",
    "    return dif\n",
    "\n",
    "print(diferentes([1,2,3,1]))\n",
    "print(diferentes([1,2,3,4]))"
   ]
  },
  {
   "cell_type": "markdown",
   "metadata": {},
   "source": [
    "## 1.b) Testa se uma lista de inteiros estã ordenada (resultado True ou False):\n",
    "\n",
    "``` \n",
    "def ordenada(lista):\n",
    "    ... \n",
    "    return ... \n",
    "```"
   ]
  },
  {
   "cell_type": "code",
   "execution_count": null,
   "metadata": {},
   "outputs": [],
   "source": [
    "def ordenada(lista):\n",
    "    ordenada = True\n",
    "    for i in range(1,len(lista)):\n",
    "        if lista[i-1] > lista[i]:\n",
    "            ordenada = False\n",
    "    return ordenada\n",
    "\n",
    "print(ordenada([1,2,3,4]))\n",
    "print(ordenada([1,2,3,4,3]))"
   ]
  },
  {
   "cell_type": "markdown",
   "metadata": {},
   "source": [
    "### 1.c) Recebe um caráter e uma frase e substitui todas as ocorrências do caráter por '*' devolvendo a nova frase:\n",
    "```\n",
    "def oculta(c, frase):\n",
    "        ... \n",
    "        return ... \n",
    "    \n",
    "oculta('a', \"Hoje, Braga estÃ¡ animada!\")\n",
    "\"Hoje, Br*g* estÃ¡ *nim*d*!\"\n",
    "```  "
   ]
  },
  {
   "cell_type": "code",
   "execution_count": null,
   "metadata": {},
   "outputs": [],
   "source": [
    "def oculta(c, frase):\n",
    "    nova = frase.replace(c, '*')\n",
    "    return nova \n",
    "\n",
    "def oculta2(c, frase):\n",
    "    frase = frase.replace(c, '*')\n",
    "    return frase\n",
    "    \n",
    "oculta2('a', \"Hoje, Braga estÃ¡ animada!\")"
   ]
  },
  {
   "cell_type": "markdown",
   "metadata": {},
   "source": [
    "### 1.d) Constrói uma lista de números inteiros entre dois limites passados como argumento e devolve essa lista:\n",
    "\n",
    "``` \n",
    "def clista(linf, lsup):\n",
    "    ... \n",
    "    return ... \n",
    "    \n",
    "clista(3, 9) \n",
    "[3,4,5,6,7,8,9]\n",
    "```"
   ]
  },
  {
   "cell_type": "code",
   "execution_count": null,
   "metadata": {},
   "outputs": [],
   "source": [
    "def clista(linf, lsup):\n",
    "    lista = [x for x in range(linf, lsup+1)]\n",
    "    return lista\n",
    "\n",
    "clista(3,9)"
   ]
  },
  {
   "cell_type": "markdown",
   "metadata": {},
   "source": [
    "## Questão 2: Considere os seguintes comentários que definem um modelo para guardar os registos de temperatura e precipitação ao longo de vários dias, materializado na variável tabMeteo1:"
   ]
  },
  {
   "cell_type": "code",
   "execution_count": 12,
   "metadata": {},
   "outputs": [],
   "source": [
    "# TabMeteo = [(Data,TempMin,TempMax,Precipitacao)]\n",
    "    # Data = (Int,Int,Int)\n",
    "    # TempMin = Float\n",
    "    # TempMax = Float\n",
    "    # Precipitacao = Float\n",
    "\n",
    "tabMeteo1 = [((2022,1,20), 2, 16, 0),((2022,1,21), 1, 13, 0.2)]"
   ]
  },
  {
   "cell_type": "markdown",
   "metadata": {},
   "source": [
    "## e especifique funções que calculem o que se descreve a seguir:"
   ]
  },
  {
   "cell_type": "markdown",
   "metadata": {},
   "source": [
    "### 2.a) Calcula a temperatura média de cada dia, dando como resultado uma lista de pares: [(data, temperaturaMédia)]:\n",
    "\n",
    "``` \n",
    "def medias(tabMeteo):\n",
    "    ... \n",
    "    return ... \n",
    "```"
   ]
  },
  {
   "cell_type": "code",
   "execution_count": null,
   "metadata": {},
   "outputs": [],
   "source": [
    "def medias(tabMeteo):\n",
    "    res = []\n",
    "    for reg in tabMeteo:\n",
    "        data, tmin, tmax, _ = reg\n",
    "        res.append((data, (tmin+tmax)/2))\n",
    "    return res\n",
    "\n",
    "print(medias(tabMeteo1))"
   ]
  },
  {
   "cell_type": "markdown",
   "metadata": {},
   "source": [
    "### 2.b) Calcula a temperatura mínima mais baixa registada na tabela, dando como resultado esse valor:\n",
    "\n",
    "``` \n",
    "def minMin(tabMeteo):\n",
    "    ... \n",
    "    return ... \n",
    "```"
   ]
  },
  {
   "cell_type": "code",
   "execution_count": null,
   "metadata": {},
   "outputs": [],
   "source": [
    "def minMin(tabMeteo):\n",
    "    min = tabMeteo[0][1]\n",
    "    for reg in tabMeteo:\n",
    "        _, tmin, _, _ = reg\n",
    "        if tmin < min:\n",
    "            min = tmin \n",
    "    return min\n",
    "\n",
    "print(minMin(tabMeteo1))"
   ]
  },
  {
   "cell_type": "markdown",
   "metadata": {},
   "source": [
    "### 2.c) Calcula a amplitude térmica (diferença entre a temperatura máxima e a temperatura mínima) de cada dia, dando como resultado uma lista de pares: [(data, amplitude)]\n",
    "\n",
    "``` \n",
    "def amplTerm(tabMeteo):\n",
    "    ... \n",
    "    return ... \n",
    "```"
   ]
  },
  {
   "cell_type": "code",
   "execution_count": null,
   "metadata": {},
   "outputs": [],
   "source": [
    "def amplTerm(tabMeteo):\n",
    "    res = []\n",
    "    for reg in tabMeteo:\n",
    "        data, tmin, tmax, _ = reg\n",
    "        res.append((data, tmax-tmin)) \n",
    "    return res \n",
    "\n",
    "print(amplTerm(tabMeteo1))"
   ]
  },
  {
   "cell_type": "markdown",
   "metadata": {},
   "source": [
    "### 2.d) Calcula o dia em que a precipitação registada teve o seu valor máximo e indica esse valor, dando como resultado o par (data, valor):\n",
    "\n",
    "```\n",
    "def maxChuva(tabMeteo):\n",
    "    ... \n",
    "    return ... \n",
    "```"
   ]
  },
  {
   "cell_type": "code",
   "execution_count": null,
   "metadata": {},
   "outputs": [],
   "source": [
    "def maxChuva(tabMeteo):\n",
    "    maxP = tabMeteo[0][3]\n",
    "    maxData = tabMeteo[0][0]\n",
    "    for reg in tabMeteo:\n",
    "        data, _, _, prec = reg\n",
    "        if prec > maxP:\n",
    "            maxP = prec\n",
    "            maxData = data\n",
    "    return ((maxData, maxP))\n",
    "\n",
    "print(maxChuva(tabMeteo1))"
   ]
  },
  {
   "cell_type": "markdown",
   "metadata": {},
   "source": [
    "## Questão 3: Voltando a um dos temas abordados nas aulas especifique funções que:\n",
    "\n",
    "### 3.a) Calcula a lista de divisores de um número inteiro (se um número divide o número passado como argumento dando resto zero na divisão inteira, é considerado um divisor desse número):\n",
    "\n",
    "``` \n",
    "def divisores(n):\n",
    "    ... \n",
    "    return ... \n",
    "```"
   ]
  },
  {
   "cell_type": "code",
   "execution_count": 22,
   "metadata": {},
   "outputs": [
    {
     "name": "stdout",
     "output_type": "stream",
     "text": [
      "1: [1]\n",
      "48: [1, 2, 3, 4, 6, 8, 12, 16, 24, 48]\n",
      "95: [1, 5, 19, 95]\n",
      "142: [1, 2, 71, 142]\n",
      "189: [1, 3, 7, 9, 21, 27, 63, 189]\n",
      "236: [1, 2, 4, 59, 118, 236]\n",
      "283: [1, 283]\n",
      "330: [1, 2, 3, 5, 6, 10, 11, 15, 22, 30, 33, 55, 66, 110, 165, 330]\n",
      "377: [1, 13, 29, 377]\n",
      "424: [1, 2, 4, 8, 53, 106, 212, 424]\n",
      "471: [1, 3, 157, 471]\n",
      "518: [1, 2, 7, 14, 37, 74, 259, 518]\n",
      "565: [1, 5, 113, 565]\n",
      "612: [1, 2, 3, 4, 6, 9, 12, 17, 18, 34, 36, 51, 68, 102, 153, 204, 306, 612]\n",
      "659: [1, 659]\n"
     ]
    }
   ],
   "source": [
    "def divisores(n):\n",
    "    res = []\n",
    "    for i in range(1, n+1):\n",
    "        if n%i == 0:\n",
    "            res.append(i)\n",
    "    return res\n",
    "\n",
    "for j in range(1, 700, 47):\n",
    "    print(str(j) + \": \" + str(divisores(j)))"
   ]
  },
  {
   "cell_type": "markdown",
   "metadata": {},
   "source": [
    "### 3.b) Verifica se um número inteiro é primo (tem apenas como divisores a unidade e o próprio número), dando como resultado True ou False:\n",
    "\n",
    "``` \n",
    "def eprimo(n):\n",
    "    ... \n",
    "    return ... \n",
    "```"
   ]
  },
  {
   "cell_type": "code",
   "execution_count": 23,
   "metadata": {},
   "outputs": [
    {
     "name": "stdout",
     "output_type": "stream",
     "text": [
      "1: False\n",
      "2: True\n",
      "3: True\n",
      "4: False\n",
      "5: True\n",
      "6: False\n",
      "7: True\n",
      "8: False\n",
      "9: False\n",
      "10: False\n",
      "11: True\n",
      "12: False\n",
      "13: True\n",
      "14: False\n",
      "15: False\n",
     ]
    }
   ],
   "source": [
    "# Reutilizando a funÃ§Ã£o anterior...\n",
    "def eprimo(n):\n",
    "    ldiv = divisores(n)\n",
    "    return len(ldiv) == 2\n",
    "\n",
    "for x in range(1,200):\n",
    "    print(str(x) + \": \" + str(eprimo(x)))"
   ]
  },
  {
   "cell_type": "markdown",
   "metadata": {},
   "source": [
    "### 3.c) Calcula a lista de números primos até um determinado número dado (inclusive):\n",
    "\n",
    "```\n",
    "def primosN(n):\n",
    "    ... \n",
    "    return ... \n",
    "```"
   ]
  },
  {
   "cell_type": "code",
   "execution_count": 24,
   "metadata": {},
   "outputs": [
    {
     "name": "stdout",
     "output_type": "stream",
     "text": [
      "[2, 3, 5, 7, 11, 13, 17, 19, 23, 29, 31, 37, 41, 43, 47, 53, 59, 61, 67, 71, 73, 79, 83, 89, 97]\n"
     ]
    }
   ],
   "source": [
    "def primosN(n):\n",
    "    res = [x for x in range(1, n+1) if eprimo(x)]\n",
    "    return res\n",
    "\n",
    "print(primosN(100))"
   ]
  },
  {
   "cell_type": "markdown",
   "metadata": {},
   "source": [
    "### 3.d) Calcula quantos números inteiros entre 1 e 10000 são múltiplos de 23 e devolve esse número (um múltiplo de 23 é um número que tem 23 como divisor):\n",
    "\n",
    "```\n",
    "def multiplos23():\n",
    "    ... \n",
    "    return ... \n",
    "```"
   ]
  },
  {
   "cell_type": "code",
   "execution_count": null,
   "metadata": {},
   "outputs": [],
   "source": [
    "def multiplos23():\n",
    "    res = [x for x in range(1, 10001) if x % 23 == 0]\n",
    "    return len(res)\n",
    "\n",
    "print(multiplos23())"
   ]
  }
 ],
 "metadata": {
  "interpreter": {
   "hash": "aee8b7b246df8f9039afb4144a1f6fd8d2ca17a180786b69acc140d282b71a49"
  },
  "kernelspec": {
   "display_name": "Python 3 (ipykernel)",
   "language": "python",
   "name": "python3"
  },
  "language_info": {
   "codemirror_mode": {
    "name": "ipython",
    "version": 3
   },
   "file_extension": ".py",
   "mimetype": "text/x-python",
   "name": "python",
   "nbconvert_exporter": "python",
   "pygments_lexer": "ipython3",
   "version": "3.8.5"
  }
 },
 "nbformat": 4,
 "nbformat_minor": 2
}
