{
 "cells": [
  {
   "cell_type": "code",
   "execution_count": null,
   "metadata": {},
   "outputs": [],
   "source": [
    "import random\n",
    "\n",
    "print (\"Existem 21 fósforos.\")\n",
    "\n",
    "print (\"O último a retirar um fósforo perde.\")\n",
    "\n",
    "while True:\n",
    "    \n",
    "    primeiro_a_jogar = input(\"Quer Jogar Primeiro? Introduza 'sim' ou 'não'. \")\n",
    "    if primeiro_a_jogar == 'não':\n",
    "        primeiro_a_jogar == True\n",
    "        print(\"PC será o primeiro a jogar.\")\n",
    "   \n",
    "    \n",
    "        fosforos = 21    \n",
    "        while True:\n",
    "    \n",
    "            print ((\"Fósforos Restantes:\") , fosforos)\n",
    "        \n",
    "            a = random.randint(1,4)\n",
    "            print(\"O computador retirou: \", a)\n",
    " \n",
    "            fosforos_retirados = int(input(\"Retire um 1 a 4 fósforos:\"))\n",
    "            if fosforos == 1:\n",
    "                print (\"Retirou o último fósforo. Perdeu.\")\n",
    "                break\n",
    "            if fosforos_retirados >= 5 or fosforos_retirados <= 0:\n",
    "                print (\"Escolha errada. Por favor selecione outro 1 a 4 fósforos.\")\n",
    "                continue\n",
    "            print (\"O computador retirou: \" , (5 - fosforos_retirados) )\n",
    "            fosforos -= 5\n",
    "            \n",
    "    elif primeiro_a_jogar == 'sim':\n",
    "        primeiro_a_jogar == True\n",
    "        print(\"Será o primeiro a jogar.\")\n",
    "        \n",
    "        fosforos = 21    \n",
    "        while True:\n",
    "    \n",
    "            print ((\"Fósforos Restantes:\") , fosforos)\n",
    "            \n",
    "            fosforos_retirados = int(input(\"Retire um 1 a 4 fósforos:\"))\n",
    "            if fosforos == 1:\n",
    "                print (\"Retirou o último fósforo. Perdeu.\")\n",
    "                break\n",
    "            if fosforos_retirados >= 5 or fosforos_retirados <= 0:\n",
    "                print (\"Escolha errada. Por favor selecione outro 1 a 4 fósforos.\")\n",
    "                continue\n",
    "            print (\"O computador retirou: \" , (5 - fosforos_retirados) )\n",
    "            fosforos -= 5\n",
    "    else: \n",
    "        print(\"A palavra introduzida não é válida. \")\n",
    "        continue"
   ]
  }
 ],
 "metadata": {
  "kernelspec": {
   "display_name": "Python 3",
   "language": "python",
   "name": "python3"
  },
  "language_info": {
   "codemirror_mode": {
    "name": "ipython",
    "version": 3
   },
   "file_extension": ".py",
   "mimetype": "text/x-python",
   "name": "python",
   "nbconvert_exporter": "python",
   "pygments_lexer": "ipython3",
   "version": "3.8.5"
  }
 },
 "nbformat": 4,
 "nbformat_minor": 4
}
