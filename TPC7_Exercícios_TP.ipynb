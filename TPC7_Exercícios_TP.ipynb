{
 "cells": [
  {
   "cell_type": "markdown",
   "metadata": {},
   "source": [
    "## Manifesto do TPC7\n",
    "* **Identificador:** Algoritmos e Técnicas de Programação\n",
    "* **Título:** Calculadora de Frações\n",
    "* **Data de início:** 2021-12-02\n",
    "* **Data de fim:** 2021-12-04\n",
    "* **Supervisor:** José Carlos Leite Ramalho, jcr@di.uminho.pt\n",
    "* **Autor:** Amanda Maria de Melo Vieira, A88312\n",
    "* **Resumo:** Este trabalho tem como objetivo resolver o exercício 6,7 e 8 do TP7."
   ]
  },
  {
   "cell_type": "markdown",
   "metadata": {},
   "source": [
    "### Exercicio 6 - Distribuição por médias\n",
    "Especifica uma função que dá como resultado uma lista de pares, média e número de alunos com essa média (considera o valor total da média)."
   ]
  },
  {
   "cell_type": "code",
   "execution_count": 32,
   "metadata": {},
   "outputs": [],
   "source": [
    "def distribPorMedia(d):\n",
    "    bd=lerDataset()\n",
    "    distribuicaoM = {}\n",
    "    for a in bd:\n",
    "        if a[M] in distribuicaoM.keys():\n",
    "            distribuicaoM[sum(a[3])/len(a[3])]=distribuicaoM[sum(a[3]+1)/len(a[3]+1)]\n",
    "        else:\n",
    "            distribuicaoM[a[3]] = 1\n",
    "    return distribuicaoM\n",
    "\n",
    "\n",
    "d=distribPorMedia(bd)\n",
    "print(d)"
   ]
  },
  {
   "cell_type": "markdown",
   "metadata": {},
   "source": [
    "### Exercicio 7 - Gráfico da distribuição por curso\n",
    "Especifica uma função que dá como resultado uma lista de pares, média e número de alunos com essa média (considera o valor total da média)."
   ]
  },
  {
   "cell_type": "code",
   "execution_count": null,
   "metadata": {},
   "outputs": [],
   "source": [
    "def lerDataset():\n",
    "    texto = open(\"alunos.csv\")\n",
    "    bd=[]\n",
    "    texto.readline()\n",
    "    for linha in texto:\n",
    "        bd.append(getAluno(linha))\n",
    "    return\n",
    "\n",
    "def distribPorCurso():\n",
    "    bd = lerDataser()\n",
    "    distribuição={}\n",
    "    for a in bd:\n",
    "        if a[2] in distribuicao.Keys():\n",
    "            distribuição[a[2]]=distruicao[a[2]]\n",
    "        else:\n",
    "            distribuicao[a[2]]=1\n",
    "    return distribuicao\n",
    "\n",
    "distribuicao = distribPorCurso()\n",
    "\n",
    "import matplotlib.pyplot as plt\n",
    "\n",
    "def plotDistribPorCurso(distribuicao)\n",
    "    \n",
    "    #altura das barras\n",
    "    \n",
    "    alunos = distribuicao.values()\n",
    "    height=[]\n",
    "    for a in alunos:\n",
    "        height.append(a)\n",
    "        \n",
    "    #legendas\n",
    "    \n",
    "    cursos = distribruicao.Keys()\n",
    "    x = []\n",
    "    i = 1\n",
    "    tick_label=[]\n",
    "    for c in cursos:\n",
    "        tick_label append(c)\n",
    "        x.append(x)\n",
    "        i = i+1\n",
    "        \n",
    "    #gráfico circular\n",
    "    \n",
    "    plt.bar(x, height, tick_label = tick_label, width=0.8)\n",
    "    \n",
    "    #eixos\n",
    "    \n",
    "    plt.xlabel('Cursos')\n",
    "    \n",
    "    plt.ylabel('Nº Alunos')\n",
    "    \n",
    "    plt.title('Distribuição por Cursos')\n",
    "    \n",
    "    #mostra o gráfico\n",
    "    \n",
    "    plt.show()\n",
    "    \n",
    "    "
   ]
  },
  {
   "cell_type": "markdown",
   "metadata": {},
   "source": [
    "### Exercicio 8 - Gráfico da distribuição por média\n",
    "Especifica uma função que faz o plot dum gráfico com a distribuição de alunos por média."
   ]
  },
  {
   "cell_type": "code",
   "execution_count": null,
   "metadata": {},
   "outputs": [],
   "source": [
    "def distribPorMedia():\n",
    "    bd = lerDataser()\n",
    "    distribuiçãoM={}\n",
    "    for a in bd:\n",
    "        M = int(sum(a[3]/4)\n",
    "        if M in distribuicaoM.Keys():\n",
    "            distribuiçãoM[M]=distruicaoM[M]\n",
    "        else:\n",
    "            distribuicao[M]=1\n",
    "    return distribuicaoM\n",
    "\n",
    "distribuicao = distribPorMedia()\n",
    "\n",
    "import matplotlib.pyplot as plt\n",
    "\n",
    "def plotDistribPorMedia(distribuicao)\n",
    "    \n",
    "    #altura das barras\n",
    "    \n",
    "    alunos = distribuicao.values()\n",
    "    height=[]\n",
    "    for a in alunos:\n",
    "        height.append(a)\n",
    "        \n",
    "    #legendas\n",
    "    \n",
    "    cursos = distribruicao.Keys()\n",
    "    x = []\n",
    "    i = 1\n",
    "    tick_label=[]\n",
    "    for c in cursos:\n",
    "        tick_label append(c)\n",
    "        x.append(x)\n",
    "        i = i+1\n",
    "        \n",
    "    #gráfico circular\n",
    "    \n",
    "    plt.bar(x, height, tick_label  tick_label, width )\n",
    "    \n",
    "    #eixos\n",
    "    \n",
    "    plt.xlabel('Média')\n",
    "    \n",
    "    plt.ylabel('Nº Alunos')\n",
    "    \n",
    "    plt.title('Distribuição de alunos por média')\n",
    "    \n",
    "    #mostra o gráfico\n",
    "    \n",
    "    plt.show()             "
   ]
  }
 ],
 "metadata": {
  "kernelspec": {
   "display_name": "Python 3",
   "language": "python",
   "name": "python3"
  },
  "language_info": {
   "codemirror_mode": {
    "name": "ipython",
    "version": 3
   },
   "file_extension": ".py",
   "mimetype": "text/x-python",
   "name": "python",
   "nbconvert_exporter": "python",
   "pygments_lexer": "ipython3",
   "version": "3.8.5"
  }
 },
 "nbformat": 4,
 "nbformat_minor": 4
}
